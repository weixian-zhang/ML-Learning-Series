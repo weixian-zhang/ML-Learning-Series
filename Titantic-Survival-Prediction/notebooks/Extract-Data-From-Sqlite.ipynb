{
 "cells": [
  {
   "cell_type": "markdown",
   "id": "423c07dd",
   "metadata": {},
   "source": [
    "### Create DB"
   ]
  },
  {
   "cell_type": "code",
   "execution_count": 9,
   "id": "bccef717",
   "metadata": {},
   "outputs": [
    {
     "ename": "OperationalError",
     "evalue": "table classroom already exists",
     "output_type": "error",
     "traceback": [
      "\u001b[1;31m---------------------------------------------------------------------------\u001b[0m",
      "\u001b[1;31mOperationalError\u001b[0m                          Traceback (most recent call last)",
      "\u001b[1;32m<ipython-input-9-8e8f30bd6ba8>\u001b[0m in \u001b[0;36m<module>\u001b[1;34m\u001b[0m\n\u001b[0;32m     17\u001b[0m \"\"\"\n\u001b[0;32m     18\u001b[0m \u001b[1;33m\u001b[0m\u001b[0m\n\u001b[1;32m---> 19\u001b[1;33m \u001b[0mcursor\u001b[0m\u001b[1;33m.\u001b[0m\u001b[0mexecute\u001b[0m\u001b[1;33m(\u001b[0m\u001b[0mcreate_table\u001b[0m\u001b[1;33m)\u001b[0m\u001b[1;33m\u001b[0m\u001b[1;33m\u001b[0m\u001b[0m\n\u001b[0m\u001b[0;32m     20\u001b[0m \u001b[1;33m\u001b[0m\u001b[0m\n\u001b[0;32m     21\u001b[0m \u001b[0msqlite_conn\u001b[0m\u001b[1;33m.\u001b[0m\u001b[0mcommit\u001b[0m\u001b[1;33m(\u001b[0m\u001b[1;33m)\u001b[0m\u001b[1;33m\u001b[0m\u001b[1;33m\u001b[0m\u001b[0m\n",
      "\u001b[1;31mOperationalError\u001b[0m: table classroom already exists"
     ]
    }
   ],
   "source": [
    "import sqlite3\n",
    "\n",
    "sqlite_conn = sqlite3.connect(\"../src/data/classroomDB.db\")\n",
    "\n",
    "cursor = sqlite_conn.cursor()\n",
    "\n",
    "create_table = \"\"\"\n",
    "   create table classroom (\n",
    "       student_id INTERGER PRIMAR KEY,\n",
    "       name VARCHAR(20),\n",
    "       gender CHAR(1),\n",
    "       physics_marks INTERGER,\n",
    "       chemistry_marks INTERGER,\n",
    "       mathematics_marks INTERGER\n",
    "   );\n",
    "   \n",
    "\"\"\"\n",
    "\n",
    "cursor.execute(create_table)\n",
    "\n",
    "sqlite_conn.commit()\n",
    "\n",
    "sqlite_conn.close()"
   ]
  },
  {
   "cell_type": "markdown",
   "id": "d5fa8206",
   "metadata": {},
   "source": [
    "### Insert data"
   ]
  },
  {
   "cell_type": "code",
   "execution_count": 18,
   "id": "a0095775",
   "metadata": {},
   "outputs": [],
   "source": [
    "classroom_data = [\n",
    "                     (1, \"WX\", \"M\", 100, 100, 100),\n",
    "                     (2, \"Bryan\", \"M\", 80, 55, 45)\n",
    "                 ]\n",
    "\n",
    "sqlite_conn = sqlite3.connect(\"../src/data/classroomDB.db\")\n",
    "\n",
    "cursor = sqlite_conn.cursor()\n",
    "\n",
    "for x in classroom_data:\n",
    "    insert = f\"\"\"\n",
    "        INSERT INTO classroom\n",
    "        (student_id, name, gender, physics_marks, chemistry_marks, mathematics_marks)\n",
    "        VALUES\n",
    "        ({x[0]}, \"{x[1]}\", \"{x[2]}\", {x[3]}, {x[4]}, {x[5]});\"\"\"\n",
    "    \n",
    "    cursor.execute(insert)\n",
    "    \n",
    "sqlite_conn.commit()\n",
    "sqlite_conn.close()    "
   ]
  },
  {
   "cell_type": "code",
   "execution_count": 20,
   "id": "4f87e699",
   "metadata": {},
   "outputs": [
    {
     "name": "stdout",
     "output_type": "stream",
     "text": [
      "(1, 'WX', 'M', 100, 100, 100)\n",
      "(2, 'Bryan', 'M', 80, 55, 45)\n"
     ]
    }
   ],
   "source": [
    "sqlite_conn = sqlite3.connect(\"../src/data/classroomDB.db\")\n",
    "\n",
    "cursor = sqlite_conn.cursor()\n",
    "\n",
    "select = \"select * from classroom\"\n",
    "\n",
    "cursor.execute(select)\n",
    "\n",
    "rows = cursor.fetchall()\n",
    "\n",
    "for x in rows:\n",
    "    print(x)\n",
    "    \n",
    "sqlite_conn.close()"
   ]
  }
 ],
 "metadata": {
  "kernelspec": {
   "display_name": "Python 3",
   "language": "python",
   "name": "python3"
  },
  "language_info": {
   "codemirror_mode": {
    "name": "ipython",
    "version": 3
   },
   "file_extension": ".py",
   "mimetype": "text/x-python",
   "name": "python",
   "nbconvert_exporter": "python",
   "pygments_lexer": "ipython3",
   "version": "3.8.8"
  }
 },
 "nbformat": 4,
 "nbformat_minor": 5
}
